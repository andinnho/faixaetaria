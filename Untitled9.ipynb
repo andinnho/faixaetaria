{
  "nbformat": 4,
  "nbformat_minor": 0,
  "metadata": {
    "colab": {
      "provenance": [],
      "authorship_tag": "ABX9TyM6p6aApG6TEdcFoSaNU5W2",
      "include_colab_link": true
    },
    "kernelspec": {
      "name": "python3",
      "display_name": "Python 3"
    },
    "language_info": {
      "name": "python"
    }
  },
  "cells": [
    {
      "cell_type": "markdown",
      "metadata": {
        "id": "view-in-github",
        "colab_type": "text"
      },
      "source": [
        "<a href=\"https://colab.research.google.com/github/andinnho/faixaetaria/blob/main/Untitled9.ipynb\" target=\"_parent\"><img src=\"https://colab.research.google.com/assets/colab-badge.svg\" alt=\"Open In Colab\"/></a>"
      ]
    },
    {
      "cell_type": "markdown",
      "source": [
        "The basic syntax of an if- elif- else"
      ],
      "metadata": {
        "id": "JlPA-vHqoYSj"
      }
    },
    {
      "cell_type": "code",
      "source": [
        "def calcular_idade(nascimento, anoatual):\n",
        "    idade = anoatual - nascimento\n",
        "    return idade\n",
        "\n",
        "\n",
        "def faixa_etaria(idade):\n",
        "    if idade < 2.0:\n",
        "        return 'Bebê'\n",
        "    elif idade < 12.0:\n",
        "        return 'Criança'\n",
        "    elif idade < 19.0:\n",
        "        return 'Adolescente'\n",
        "    elif idade < 40.0:\n",
        "        return 'Jovem Adulto'\n",
        "    elif idade < 60:\n",
        "        return 'Adulto'\n",
        "    else:\n",
        "        return 'Idoso'\n",
        "\n",
        "\n",
        "nascimento = float(input('Digite seu ano de Nascimento: '))\n",
        "anoatual = float(input('Digite o ano Atual: '))\n",
        "\n",
        "idade = calcular_idade(nascimento, anoatual)\n",
        "faixaetaria = faixa_etaria(idade)\n",
        "\n",
        "print('Sua idade é:', idade)\n",
        "print('Você é:', faixaetaria)\n",
        "\n",
        "\n"
      ],
      "metadata": {
        "colab": {
          "base_uri": "https://localhost:8080/"
        },
        "id": "BYIgSK-rdvaV",
        "outputId": "f735489f-7bc2-43b9-9990-00b7abb1cf0e"
      },
      "execution_count": 66,
      "outputs": [
        {
          "output_type": "stream",
          "name": "stdout",
          "text": [
            "Digite seu ano de Nascimento: 1930\n",
            "Digite o ano Atual: 2023\n",
            "Sua idade é: 93.0\n",
            "Você é: Idoso\n"
          ]
        }
      ]
    }
  ]
}